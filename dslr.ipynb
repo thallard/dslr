{
 "cells": [
  {
   "cell_type": "code",
   "execution_count": 94,
   "id": "082122ae-991e-4026-b29c-79a6f7ab6990",
   "metadata": {},
   "outputs": [],
   "source": [
    "import numpy as np\n",
    "import pandas as pd\n",
    "import matplotlib.pyplot as plt\n",
    "import statistics\n",
    "import math\n",
    "import sys"
   ]
  },
  {
   "cell_type": "code",
   "execution_count": 95,
   "id": "2283556d-592d-40b9-a6d2-3f20862b1093",
   "metadata": {},
   "outputs": [
    {
     "data": {
      "text/html": [
       "<div>\n",
       "<style scoped>\n",
       "    .dataframe tbody tr th:only-of-type {\n",
       "        vertical-align: middle;\n",
       "    }\n",
       "\n",
       "    .dataframe tbody tr th {\n",
       "        vertical-align: top;\n",
       "    }\n",
       "\n",
       "    .dataframe thead th {\n",
       "        text-align: right;\n",
       "    }\n",
       "</style>\n",
       "<table border=\"1\" class=\"dataframe\">\n",
       "  <thead>\n",
       "    <tr style=\"text-align: right;\">\n",
       "      <th></th>\n",
       "      <th>Hogwarts House</th>\n",
       "      <th>First Name</th>\n",
       "      <th>Last Name</th>\n",
       "      <th>Birthday</th>\n",
       "      <th>Best Hand</th>\n",
       "      <th>Arithmancy</th>\n",
       "      <th>Astronomy</th>\n",
       "      <th>Herbology</th>\n",
       "      <th>Defense Against the Dark Arts</th>\n",
       "      <th>Divination</th>\n",
       "      <th>Muggle Studies</th>\n",
       "      <th>Ancient Runes</th>\n",
       "      <th>History of Magic</th>\n",
       "      <th>Transfiguration</th>\n",
       "      <th>Potions</th>\n",
       "      <th>Care of Magical Creatures</th>\n",
       "      <th>Charms</th>\n",
       "      <th>Flying</th>\n",
       "    </tr>\n",
       "  </thead>\n",
       "  <tbody>\n",
       "    <tr>\n",
       "      <th>0</th>\n",
       "      <td>Ravenclaw</td>\n",
       "      <td>Tamara</td>\n",
       "      <td>Hsu</td>\n",
       "      <td>2000-03-30</td>\n",
       "      <td>Left</td>\n",
       "      <td>58384.0</td>\n",
       "      <td>-487.886086</td>\n",
       "      <td>5.727180</td>\n",
       "      <td>4.878861</td>\n",
       "      <td>4.722</td>\n",
       "      <td>272.035831</td>\n",
       "      <td>532.484226</td>\n",
       "      <td>5.231058</td>\n",
       "      <td>1039.788281</td>\n",
       "      <td>3.790369</td>\n",
       "      <td>0.715939</td>\n",
       "      <td>-232.79405</td>\n",
       "      <td>-26.89</td>\n",
       "    </tr>\n",
       "    <tr>\n",
       "      <th>1</th>\n",
       "      <td>Slytherin</td>\n",
       "      <td>Erich</td>\n",
       "      <td>Paredes</td>\n",
       "      <td>1999-10-14</td>\n",
       "      <td>Right</td>\n",
       "      <td>67239.0</td>\n",
       "      <td>-552.060507</td>\n",
       "      <td>-5.987446</td>\n",
       "      <td>5.520605</td>\n",
       "      <td>-5.612</td>\n",
       "      <td>-487.340557</td>\n",
       "      <td>367.760303</td>\n",
       "      <td>4.107170</td>\n",
       "      <td>1058.944592</td>\n",
       "      <td>7.248742</td>\n",
       "      <td>0.091674</td>\n",
       "      <td>-252.18425</td>\n",
       "      <td>-113.45</td>\n",
       "    </tr>\n",
       "    <tr>\n",
       "      <th>2</th>\n",
       "      <td>Ravenclaw</td>\n",
       "      <td>Stephany</td>\n",
       "      <td>Braun</td>\n",
       "      <td>1999-11-03</td>\n",
       "      <td>Left</td>\n",
       "      <td>23702.0</td>\n",
       "      <td>-366.076117</td>\n",
       "      <td>7.725017</td>\n",
       "      <td>3.660761</td>\n",
       "      <td>6.140</td>\n",
       "      <td>664.893521</td>\n",
       "      <td>602.585284</td>\n",
       "      <td>3.555579</td>\n",
       "      <td>1088.088348</td>\n",
       "      <td>8.728531</td>\n",
       "      <td>-0.515327</td>\n",
       "      <td>-227.34265</td>\n",
       "      <td>30.42</td>\n",
       "    </tr>\n",
       "    <tr>\n",
       "      <th>3</th>\n",
       "      <td>Gryffindor</td>\n",
       "      <td>Vesta</td>\n",
       "      <td>Mcmichael</td>\n",
       "      <td>2000-08-19</td>\n",
       "      <td>Left</td>\n",
       "      <td>32667.0</td>\n",
       "      <td>697.742809</td>\n",
       "      <td>-6.497214</td>\n",
       "      <td>-6.977428</td>\n",
       "      <td>4.026</td>\n",
       "      <td>-537.001128</td>\n",
       "      <td>523.982133</td>\n",
       "      <td>-4.809637</td>\n",
       "      <td>920.391449</td>\n",
       "      <td>0.821911</td>\n",
       "      <td>-0.014040</td>\n",
       "      <td>-256.84675</td>\n",
       "      <td>200.64</td>\n",
       "    </tr>\n",
       "    <tr>\n",
       "      <th>4</th>\n",
       "      <td>Slytherin</td>\n",
       "      <td>Corrine</td>\n",
       "      <td>Hammond</td>\n",
       "      <td>1999-04-04</td>\n",
       "      <td>Right</td>\n",
       "      <td>21209.0</td>\n",
       "      <td>-613.687160</td>\n",
       "      <td>-4.289197</td>\n",
       "      <td>6.136872</td>\n",
       "      <td>-6.592</td>\n",
       "      <td>-440.997704</td>\n",
       "      <td>396.201804</td>\n",
       "      <td>5.380286</td>\n",
       "      <td>1052.845164</td>\n",
       "      <td>11.751212</td>\n",
       "      <td>1.049894</td>\n",
       "      <td>-247.94549</td>\n",
       "      <td>-34.69</td>\n",
       "    </tr>\n",
       "  </tbody>\n",
       "</table>\n",
       "</div>"
      ],
      "text/plain": [
       "  Hogwarts House First Name  Last Name    Birthday Best Hand  Arithmancy  \\\n",
       "0      Ravenclaw     Tamara        Hsu  2000-03-30      Left     58384.0   \n",
       "1      Slytherin      Erich    Paredes  1999-10-14     Right     67239.0   \n",
       "2      Ravenclaw   Stephany      Braun  1999-11-03      Left     23702.0   \n",
       "3     Gryffindor      Vesta  Mcmichael  2000-08-19      Left     32667.0   \n",
       "4      Slytherin    Corrine    Hammond  1999-04-04     Right     21209.0   \n",
       "\n",
       "    Astronomy  Herbology  Defense Against the Dark Arts  Divination  \\\n",
       "0 -487.886086   5.727180                       4.878861       4.722   \n",
       "1 -552.060507  -5.987446                       5.520605      -5.612   \n",
       "2 -366.076117   7.725017                       3.660761       6.140   \n",
       "3  697.742809  -6.497214                      -6.977428       4.026   \n",
       "4 -613.687160  -4.289197                       6.136872      -6.592   \n",
       "\n",
       "   Muggle Studies  Ancient Runes  History of Magic  Transfiguration  \\\n",
       "0      272.035831     532.484226          5.231058      1039.788281   \n",
       "1     -487.340557     367.760303          4.107170      1058.944592   \n",
       "2      664.893521     602.585284          3.555579      1088.088348   \n",
       "3     -537.001128     523.982133         -4.809637       920.391449   \n",
       "4     -440.997704     396.201804          5.380286      1052.845164   \n",
       "\n",
       "     Potions  Care of Magical Creatures     Charms  Flying  \n",
       "0   3.790369                   0.715939 -232.79405  -26.89  \n",
       "1   7.248742                   0.091674 -252.18425 -113.45  \n",
       "2   8.728531                  -0.515327 -227.34265   30.42  \n",
       "3   0.821911                  -0.014040 -256.84675  200.64  \n",
       "4  11.751212                   1.049894 -247.94549  -34.69  "
      ]
     },
     "execution_count": 95,
     "metadata": {},
     "output_type": "execute_result"
    }
   ],
   "source": [
    "datas_train = pd.read_csv(\"datasets/dataset_train.csv\")\n",
    "datas_train.head()\n",
    "datas_train.shape\n",
    "\n",
    "# Clean dataset\n",
    "temp = datas_train\n",
    "tem'Divination'].replace(\"\", float(\"NaN\"), inplace=True)\n",
    "temp['Arithmancy'].replace(\"\", float(\"NaN\"), inplace=True)\n",
    "temp.dropna(inplace=True)\n",
    "temp = datas_train.reset_index(drop=True)\n",
    "temp.drop('Index', axis=1, inplace=True)\n",
    "datas_train = temp\n",
    "datas_train.head()"
   ]
  },
  {
   "cell_type": "code",
   "execution_count": 96,
   "id": "55fce488-6f06-4dbf-b974-b3e1e0d03b32",
   "metadata": {},
   "outputs": [
    {
     "name": "stdout",
     "output_type": "stream",
     "text": [
      "Count : 1251\n"
     ]
    }
   ],
   "source": [
    "print(\"Count : \" + str(len(datas_train['Divination'])))"
   ]
  },
  {
   "cell_type": "code",
   "execution_count": 97,
   "id": "a7501ce3-2312-4f59-b84c-612bc98bd954",
   "metadata": {},
   "outputs": [
    {
     "name": "stdout",
     "output_type": "stream",
     "text": [
      "4020.5019999999986\n"
     ]
    }
   ],
   "source": [
    "# Recreate sum function\n",
    "def mysum(data):\n",
    "    total = 0\n",
    "    for i in range(0, len(data)):\n",
    "        total += data[i]\n",
    "    return total\n",
    "\n",
    "print(mysum(datas_train['Divination']))"
   ]
  },
  {
   "cell_type": "code",
   "execution_count": 98,
   "id": "f26377ee-b802-4fb6-90c0-7db58a072bd0",
   "metadata": {},
   "outputs": [
    {
     "name": "stdout",
     "output_type": "stream",
     "text": [
      "3.2138305355715415\n"
     ]
    }
   ],
   "source": [
    "# Recreate mean function\n",
    "def mymean(data):\n",
    "    return mysum(data) / len(data)\n",
    "\n",
    "\n",
    "print(mymean(datas_train['Divination']))"
   ]
  },
  {
   "cell_type": "code",
   "execution_count": 99,
   "id": "0c056c1f-828d-4081-be17-abc89ea2d8d6",
   "metadata": {},
   "outputs": [
    {
     "name": "stdout",
     "output_type": "stream",
     "text": [
      "16.886742265446422\n",
      "16.886742265446475\n"
     ]
    }
   ],
   "source": [
    "# Recreate variance function\n",
    "def myvariance(data):\n",
    "    mean = mymean(data)\n",
    "    deviations = [math.pow((x - mean), 2) for x in data]\n",
    "    return mysum(deviations) / len(data)\n",
    "    \n",
    "print(myvariance(datas_train['Divination']))\n",
    "print(statistics.pvariance(datas_train['Divination']))"
   ]
  },
  {
   "cell_type": "code",
   "execution_count": 100,
   "id": "68b74142-c250-4f25-98fb-7918ecd1b3d2",
   "metadata": {},
   "outputs": [
    {
     "name": "stdout",
     "output_type": "stream",
     "text": [
      "4.109348155784129\n",
      "4.109348155784136\n"
     ]
    }
   ],
   "source": [
    "# Recreate standard deviation function\n",
    "def mystd(data):\n",
    "    return math.sqrt(myvariance(data))\n",
    "    \n",
    "print(mystd(datas_train['Divination']))\n",
    "print(np.std(datas_train['Divination']))"
   ]
  },
  {
   "cell_type": "code",
   "execution_count": 101,
   "id": "69e6cb5f-225a-457b-8f0d-92de53830d99",
   "metadata": {},
   "outputs": [
    {
     "name": "stdout",
     "output_type": "stream",
     "text": [
      "-8.727\n",
      "-8.727\n"
     ]
    }
   ],
   "source": [
    "# Recreate min function\n",
    "def mymin(data):\n",
    "    min = sys.maxsize\n",
    "    for i in range(0, len(data)):\n",
    "            if min > data[i]:\n",
    "                min = data[i]\n",
    "    return min\n",
    "\n",
    "print(mymin(datas_train['Divination']))\n",
    "print(np.min(datas_train['Divination']))"
   ]
  },
  {
   "cell_type": "code",
   "execution_count": 102,
   "id": "b5d2bc86-86ef-4a9b-ab49-2b997de94a41",
   "metadata": {},
   "outputs": [
    {
     "name": "stdout",
     "output_type": "stream",
     "text": [
      "10.032\n",
      "10.032\n"
     ]
    }
   ],
   "source": [
    "# Recreate max function\n",
    "def mymax(data):\n",
    "    max = -sys.maxsize\n",
    "    for i in range(0, len(data)):\n",
    "        if max < data[i]:\n",
    "            max = data[i]\n",
    "    return max\n",
    "    \n",
    "print(mymax(datas_train['Divination']))\n",
    "print(np.max(datas_train['Divination']))"
   ]
  },
  {
   "cell_type": "code",
   "execution_count": 103,
   "id": "379a81d2-0491-4e0c-9fac-c128f769fafa",
   "metadata": {},
   "outputs": [
    {
     "name": "stdout",
     "output_type": "stream",
     "text": [
      "5.729\n"
     ]
    },
    {
     "data": {
      "text/html": [
       "<div>\n",
       "<style scoped>\n",
       "    .dataframe tbody tr th:only-of-type {\n",
       "        vertical-align: middle;\n",
       "    }\n",
       "\n",
       "    .dataframe tbody tr th {\n",
       "        vertical-align: top;\n",
       "    }\n",
       "\n",
       "    .dataframe thead th {\n",
       "        text-align: right;\n",
       "    }\n",
       "</style>\n",
       "<table border=\"1\" class=\"dataframe\">\n",
       "  <thead>\n",
       "    <tr style=\"text-align: right;\">\n",
       "      <th></th>\n",
       "      <th>Hogwarts House</th>\n",
       "      <th>First Name</th>\n",
       "      <th>Last Name</th>\n",
       "      <th>Birthday</th>\n",
       "      <th>Best Hand</th>\n",
       "      <th>Arithmancy</th>\n",
       "      <th>Astronomy</th>\n",
       "      <th>Herbology</th>\n",
       "      <th>Defense Against the Dark Arts</th>\n",
       "      <th>Divination</th>\n",
       "      <th>Muggle Studies</th>\n",
       "      <th>Ancient Runes</th>\n",
       "      <th>History of Magic</th>\n",
       "      <th>Transfiguration</th>\n",
       "      <th>Potions</th>\n",
       "      <th>Care of Magical Creatures</th>\n",
       "      <th>Charms</th>\n",
       "      <th>Flying</th>\n",
       "    </tr>\n",
       "  </thead>\n",
       "  <tbody>\n",
       "    <tr>\n",
       "      <th>0</th>\n",
       "      <td>Ravenclaw</td>\n",
       "      <td>Tamara</td>\n",
       "      <td>Hsu</td>\n",
       "      <td>2000-03-30</td>\n",
       "      <td>Left</td>\n",
       "      <td>58384.0</td>\n",
       "      <td>-487.886086</td>\n",
       "      <td>5.727180</td>\n",
       "      <td>4.878861</td>\n",
       "      <td>4.722</td>\n",
       "      <td>272.035831</td>\n",
       "      <td>532.484226</td>\n",
       "      <td>5.231058</td>\n",
       "      <td>1039.788281</td>\n",
       "      <td>3.790369</td>\n",
       "      <td>0.715939</td>\n",
       "      <td>-232.79405</td>\n",
       "      <td>-26.89</td>\n",
       "    </tr>\n",
       "    <tr>\n",
       "      <th>1</th>\n",
       "      <td>Slytherin</td>\n",
       "      <td>Erich</td>\n",
       "      <td>Paredes</td>\n",
       "      <td>1999-10-14</td>\n",
       "      <td>Right</td>\n",
       "      <td>67239.0</td>\n",
       "      <td>-552.060507</td>\n",
       "      <td>-5.987446</td>\n",
       "      <td>5.520605</td>\n",
       "      <td>-5.612</td>\n",
       "      <td>-487.340557</td>\n",
       "      <td>367.760303</td>\n",
       "      <td>4.107170</td>\n",
       "      <td>1058.944592</td>\n",
       "      <td>7.248742</td>\n",
       "      <td>0.091674</td>\n",
       "      <td>-252.18425</td>\n",
       "      <td>-113.45</td>\n",
       "    </tr>\n",
       "    <tr>\n",
       "      <th>2</th>\n",
       "      <td>Ravenclaw</td>\n",
       "      <td>Stephany</td>\n",
       "      <td>Braun</td>\n",
       "      <td>1999-11-03</td>\n",
       "      <td>Left</td>\n",
       "      <td>23702.0</td>\n",
       "      <td>-366.076117</td>\n",
       "      <td>7.725017</td>\n",
       "      <td>3.660761</td>\n",
       "      <td>6.140</td>\n",
       "      <td>664.893521</td>\n",
       "      <td>602.585284</td>\n",
       "      <td>3.555579</td>\n",
       "      <td>1088.088348</td>\n",
       "      <td>8.728531</td>\n",
       "      <td>-0.515327</td>\n",
       "      <td>-227.34265</td>\n",
       "      <td>30.42</td>\n",
       "    </tr>\n",
       "    <tr>\n",
       "      <th>3</th>\n",
       "      <td>Gryffindor</td>\n",
       "      <td>Vesta</td>\n",
       "      <td>Mcmichael</td>\n",
       "      <td>2000-08-19</td>\n",
       "      <td>Left</td>\n",
       "      <td>32667.0</td>\n",
       "      <td>697.742809</td>\n",
       "      <td>-6.497214</td>\n",
       "      <td>-6.977428</td>\n",
       "      <td>4.026</td>\n",
       "      <td>-537.001128</td>\n",
       "      <td>523.982133</td>\n",
       "      <td>-4.809637</td>\n",
       "      <td>920.391449</td>\n",
       "      <td>0.821911</td>\n",
       "      <td>-0.014040</td>\n",
       "      <td>-256.84675</td>\n",
       "      <td>200.64</td>\n",
       "    </tr>\n",
       "    <tr>\n",
       "      <th>4</th>\n",
       "      <td>Slytherin</td>\n",
       "      <td>Corrine</td>\n",
       "      <td>Hammond</td>\n",
       "      <td>1999-04-04</td>\n",
       "      <td>Right</td>\n",
       "      <td>21209.0</td>\n",
       "      <td>-613.687160</td>\n",
       "      <td>-4.289197</td>\n",
       "      <td>6.136872</td>\n",
       "      <td>-6.592</td>\n",
       "      <td>-440.997704</td>\n",
       "      <td>396.201804</td>\n",
       "      <td>5.380286</td>\n",
       "      <td>1052.845164</td>\n",
       "      <td>11.751212</td>\n",
       "      <td>1.049894</td>\n",
       "      <td>-247.94549</td>\n",
       "      <td>-34.69</td>\n",
       "    </tr>\n",
       "  </tbody>\n",
       "</table>\n",
       "</div>"
      ],
      "text/plain": [
       "  Hogwarts House First Name  Last Name    Birthday Best Hand  Arithmancy  \\\n",
       "0      Ravenclaw     Tamara        Hsu  2000-03-30      Left     58384.0   \n",
       "1      Slytherin      Erich    Paredes  1999-10-14     Right     67239.0   \n",
       "2      Ravenclaw   Stephany      Braun  1999-11-03      Left     23702.0   \n",
       "3     Gryffindor      Vesta  Mcmichael  2000-08-19      Left     32667.0   \n",
       "4      Slytherin    Corrine    Hammond  1999-04-04     Right     21209.0   \n",
       "\n",
       "    Astronomy  Herbology  Defense Against the Dark Arts  Divination  \\\n",
       "0 -487.886086   5.727180                       4.878861       4.722   \n",
       "1 -552.060507  -5.987446                       5.520605      -5.612   \n",
       "2 -366.076117   7.725017                       3.660761       6.140   \n",
       "3  697.742809  -6.497214                      -6.977428       4.026   \n",
       "4 -613.687160  -4.289197                       6.136872      -6.592   \n",
       "\n",
       "   Muggle Studies  Ancient Runes  History of Magic  Transfiguration  \\\n",
       "0      272.035831     532.484226          5.231058      1039.788281   \n",
       "1     -487.340557     367.760303          4.107170      1058.944592   \n",
       "2      664.893521     602.585284          3.555579      1088.088348   \n",
       "3     -537.001128     523.982133         -4.809637       920.391449   \n",
       "4     -440.997704     396.201804          5.380286      1052.845164   \n",
       "\n",
       "     Potions  Care of Magical Creatures     Charms  Flying  \n",
       "0   3.790369                   0.715939 -232.79405  -26.89  \n",
       "1   7.248742                   0.091674 -252.18425 -113.45  \n",
       "2   8.728531                  -0.515327 -227.34265   30.42  \n",
       "3   0.821911                  -0.014040 -256.84675  200.64  \n",
       "4  11.751212                   1.049894 -247.94549  -34.69  "
      ]
     },
     "execution_count": 103,
     "metadata": {},
     "output_type": "execute_result"
    }
   ],
   "source": [
    "# Recreate first quartile function\n",
    "def quartile(data, coef):\n",
    "    list = data.tolist()\n",
    "    list.sort()\n",
    "    \n",
    "    pos = int(len(list) * coef)\n",
    "    reste = len(list) * coef - pos\n",
    "    \n",
    "    if reste > 1/2 :\n",
    "        return list[int(pos + (1 - reste))]\n",
    "    return list[pos]\n",
    "\n",
    "print(quartile(datas_train['Divination'], 0.75))\n",
    "datas_train.head()"
   ]
  },
  {
   "cell_type": "code",
   "execution_count": 128,
   "id": "0c73e912-be15-4bdb-89d3-812f6cbc6ee0",
   "metadata": {},
   "outputs": [
    {
     "data": {
      "image/png": "[encoded data removed]",
      "text/plain": [
       "<Figure size 432x288 with 1 Axes>"
      ]
     },
     "metadata": {
      "needs_background": "light"
     },
     "output_type": "display_data"
    }
   ],
   "source": [
    "np.random.seed(42)\n",
    "df = datas_train\n",
    "df_gryf = datas_train[datas_train['Hogwarts House'] == 'Gryffindor']\n",
    "df_gryf.reset_index(inplace=True)\n",
    "# plt.hist(df['Arithmancy'], density=True, bins=50)  # density=False would make counts\n",
    "# plt.scatter(df_gryf['Arithmancy'], df['Divination'], df['Ancient Runes'], df['Muggle Studies'])\n",
    "plt.hist(mymean(df_gryf['Divination']), density=True, bins=30, color = \"red\", label='Gryffindor')\n",
    "\n",
    "# plt.scatter(df_gryf['Herbology'], df_gryf['Astronomy'], c='r')\n",
    "plt.legend()\n",
    "plt.show()\n"
   ]
  },
  {
   "cell_type": "code",
   "execution_count": null,
   "id": "3394a582-a3e9-450e-996a-2dc79377fbaf",
   "metadata": {},
   "outputs": [],
   "source": []
  }
 ],
 "metadata": {
  "kernelspec": {
   "display_name": "Python 3 (ipykernel)",
   "language": "python",
   "name": "python3"
  },
  "language_info": {
   "codemirror_mode": {
    "name": "ipython",
    "version": 3
   },
   "file_extension": ".py",
   "mimetype": "text/x-python",
   "name": "python",
   "nbconvert_exporter": "python",
   "pygments_lexer": "ipython3",
   "version": "3.9.7"
  }
 },
 "nbformat": 4,
 "nbformat_minor": 5
}
